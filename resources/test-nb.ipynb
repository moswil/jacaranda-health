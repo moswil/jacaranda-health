{
 "cells": [
  {
   "cell_type": "markdown",
   "id": "3f6d6f32",
   "metadata": {},
   "source": [
    "# Data Structuring"
   ]
  },
  {
   "cell_type": "code",
   "execution_count": 1,
   "id": "d23440ef",
   "metadata": {},
   "outputs": [],
   "source": [
    "import pandas as pd"
   ]
  },
  {
   "cell_type": "code",
   "execution_count": 2,
   "id": "fee676d7",
   "metadata": {},
   "outputs": [],
   "source": [
    "df_messages = pd.read_excel('Software_Developer_Interview_Assignment.xlsx', sheet_name='Messages')"
   ]
  },
  {
   "cell_type": "code",
   "execution_count": 3,
   "id": "d9e1ed08",
   "metadata": {},
   "outputs": [
    {
     "name": "stdout",
     "output_type": "stream",
     "text": [
      "<class 'pandas.core.frame.DataFrame'>\n",
      "RangeIndex: 1105 entries, 0 to 1104\n",
      "Data columns (total 6 columns):\n",
      " #   Column      Non-Null Count  Dtype         \n",
      "---  ------      --------------  -----         \n",
      " 0   body_text   1105 non-null   object        \n",
      " 1   id          1105 non-null   float64       \n",
      " 2   incoming    1105 non-null   bool          \n",
      " 3   ticket_id   1105 non-null   float64       \n",
      " 4   user_id     1105 non-null   float64       \n",
      " 5   created_at  1105 non-null   datetime64[ns]\n",
      "dtypes: bool(1), datetime64[ns](1), float64(3), object(1)\n",
      "memory usage: 44.4+ KB\n"
     ]
    }
   ],
   "source": [
    "df_messages.info()"
   ]
  },
  {
   "cell_type": "code",
   "execution_count": 4,
   "id": "1fe9dc5a",
   "metadata": {},
   "outputs": [
    {
     "data": {
      "text/html": [
       "<div>\n",
       "<style scoped>\n",
       "    .dataframe tbody tr th:only-of-type {\n",
       "        vertical-align: middle;\n",
       "    }\n",
       "\n",
       "    .dataframe tbody tr th {\n",
       "        vertical-align: top;\n",
       "    }\n",
       "\n",
       "    .dataframe thead th {\n",
       "        text-align: right;\n",
       "    }\n",
       "</style>\n",
       "<table border=\"1\" class=\"dataframe\">\n",
       "  <thead>\n",
       "    <tr style=\"text-align: right;\">\n",
       "      <th></th>\n",
       "      <th>body_text</th>\n",
       "      <th>id</th>\n",
       "      <th>incoming</th>\n",
       "      <th>ticket_id</th>\n",
       "      <th>user_id</th>\n",
       "      <th>created_at</th>\n",
       "    </tr>\n",
       "  </thead>\n",
       "  <tbody>\n",
       "    <tr>\n",
       "      <th>0</th>\n",
       "      <td>Cupidatat consectetur magna ex ipsum ut laboru...</td>\n",
       "      <td>4.302252e+10</td>\n",
       "      <td>False</td>\n",
       "      <td>2.0</td>\n",
       "      <td>4.301295e+10</td>\n",
       "      <td>2018-10-08 08:29:18</td>\n",
       "    </tr>\n",
       "    <tr>\n",
       "      <th>1</th>\n",
       "      <td>Detected intent: nutrition (confidence: 0.9767...</td>\n",
       "      <td>4.302252e+10</td>\n",
       "      <td>True</td>\n",
       "      <td>2.0</td>\n",
       "      <td>4.301295e+10</td>\n",
       "      <td>2018-10-08 08:29:22</td>\n",
       "    </tr>\n",
       "    <tr>\n",
       "      <th>2</th>\n",
       "      <td>Detected intent: pain (confidence: 0.976750003...</td>\n",
       "      <td>4.302252e+10</td>\n",
       "      <td>True</td>\n",
       "      <td>8.0</td>\n",
       "      <td>4.301295e+10</td>\n",
       "      <td>2018-10-08 08:42:01</td>\n",
       "    </tr>\n",
       "    <tr>\n",
       "      <th>3</th>\n",
       "      <td>Detected intent: pregnancy_condition (confiden...</td>\n",
       "      <td>4.302252e+10</td>\n",
       "      <td>True</td>\n",
       "      <td>8.0</td>\n",
       "      <td>4.301295e+10</td>\n",
       "      <td>2018-10-08 08:42:01</td>\n",
       "    </tr>\n",
       "    <tr>\n",
       "      <th>4</th>\n",
       "      <td>Detected intent: pain (confidence: 0.878675000...</td>\n",
       "      <td>4.302255e+10</td>\n",
       "      <td>False</td>\n",
       "      <td>8.0</td>\n",
       "      <td>4.301295e+10</td>\n",
       "      <td>2018-10-08 10:13:22</td>\n",
       "    </tr>\n",
       "  </tbody>\n",
       "</table>\n",
       "</div>"
      ],
      "text/plain": [
       "                                           body_text            id  incoming  \\\n",
       "0  Cupidatat consectetur magna ex ipsum ut laboru...  4.302252e+10     False   \n",
       "1  Detected intent: nutrition (confidence: 0.9767...  4.302252e+10      True   \n",
       "2  Detected intent: pain (confidence: 0.976750003...  4.302252e+10      True   \n",
       "3  Detected intent: pregnancy_condition (confiden...  4.302252e+10      True   \n",
       "4  Detected intent: pain (confidence: 0.878675000...  4.302255e+10     False   \n",
       "\n",
       "   ticket_id       user_id          created_at  \n",
       "0        2.0  4.301295e+10 2018-10-08 08:29:18  \n",
       "1        2.0  4.301295e+10 2018-10-08 08:29:22  \n",
       "2        8.0  4.301295e+10 2018-10-08 08:42:01  \n",
       "3        8.0  4.301295e+10 2018-10-08 08:42:01  \n",
       "4        8.0  4.301295e+10 2018-10-08 10:13:22  "
      ]
     },
     "execution_count": 4,
     "metadata": {},
     "output_type": "execute_result"
    }
   ],
   "source": [
    "df_messages.head()"
   ]
  },
  {
   "cell_type": "code",
   "execution_count": 5,
   "id": "549aa4ce",
   "metadata": {},
   "outputs": [
    {
     "data": {
      "text/plain": [
       "(1105, 6)"
      ]
     },
     "execution_count": 5,
     "metadata": {},
     "output_type": "execute_result"
    }
   ],
   "source": [
    "# get the number\n",
    "df_messages.shape"
   ]
  },
  {
   "cell_type": "code",
   "execution_count": 6,
   "id": "dc3056b0",
   "metadata": {
    "scrolled": true
   },
   "outputs": [
    {
     "data": {
      "text/html": [
       "<div>\n",
       "<style scoped>\n",
       "    .dataframe tbody tr th:only-of-type {\n",
       "        vertical-align: middle;\n",
       "    }\n",
       "\n",
       "    .dataframe tbody tr th {\n",
       "        vertical-align: top;\n",
       "    }\n",
       "\n",
       "    .dataframe thead th {\n",
       "        text-align: right;\n",
       "    }\n",
       "</style>\n",
       "<table border=\"1\" class=\"dataframe\">\n",
       "  <thead>\n",
       "    <tr style=\"text-align: right;\">\n",
       "      <th></th>\n",
       "      <th>body_text</th>\n",
       "      <th>id</th>\n",
       "      <th>incoming</th>\n",
       "      <th>user_id</th>\n",
       "      <th>created_at</th>\n",
       "    </tr>\n",
       "    <tr>\n",
       "      <th>ticket_id</th>\n",
       "      <th></th>\n",
       "      <th></th>\n",
       "      <th></th>\n",
       "      <th></th>\n",
       "      <th></th>\n",
       "    </tr>\n",
       "  </thead>\n",
       "  <tbody>\n",
       "    <tr>\n",
       "      <th>2.0</th>\n",
       "      <td>2</td>\n",
       "      <td>2</td>\n",
       "      <td>2</td>\n",
       "      <td>2</td>\n",
       "      <td>2</td>\n",
       "    </tr>\n",
       "    <tr>\n",
       "      <th>8.0</th>\n",
       "      <td>5</td>\n",
       "      <td>5</td>\n",
       "      <td>5</td>\n",
       "      <td>5</td>\n",
       "      <td>5</td>\n",
       "    </tr>\n",
       "    <tr>\n",
       "      <th>9.0</th>\n",
       "      <td>10</td>\n",
       "      <td>10</td>\n",
       "      <td>10</td>\n",
       "      <td>10</td>\n",
       "      <td>10</td>\n",
       "    </tr>\n",
       "    <tr>\n",
       "      <th>10.0</th>\n",
       "      <td>3</td>\n",
       "      <td>3</td>\n",
       "      <td>3</td>\n",
       "      <td>3</td>\n",
       "      <td>3</td>\n",
       "    </tr>\n",
       "    <tr>\n",
       "      <th>11.0</th>\n",
       "      <td>3</td>\n",
       "      <td>3</td>\n",
       "      <td>3</td>\n",
       "      <td>3</td>\n",
       "      <td>3</td>\n",
       "    </tr>\n",
       "    <tr>\n",
       "      <th>...</th>\n",
       "      <td>...</td>\n",
       "      <td>...</td>\n",
       "      <td>...</td>\n",
       "      <td>...</td>\n",
       "      <td>...</td>\n",
       "    </tr>\n",
       "    <tr>\n",
       "      <th>1186.0</th>\n",
       "      <td>2</td>\n",
       "      <td>2</td>\n",
       "      <td>2</td>\n",
       "      <td>2</td>\n",
       "      <td>2</td>\n",
       "    </tr>\n",
       "    <tr>\n",
       "      <th>1187.0</th>\n",
       "      <td>2</td>\n",
       "      <td>2</td>\n",
       "      <td>2</td>\n",
       "      <td>2</td>\n",
       "      <td>2</td>\n",
       "    </tr>\n",
       "    <tr>\n",
       "      <th>1188.0</th>\n",
       "      <td>2</td>\n",
       "      <td>2</td>\n",
       "      <td>2</td>\n",
       "      <td>2</td>\n",
       "      <td>2</td>\n",
       "    </tr>\n",
       "    <tr>\n",
       "      <th>1524.0</th>\n",
       "      <td>4</td>\n",
       "      <td>4</td>\n",
       "      <td>4</td>\n",
       "      <td>4</td>\n",
       "      <td>4</td>\n",
       "    </tr>\n",
       "    <tr>\n",
       "      <th>1525.0</th>\n",
       "      <td>3</td>\n",
       "      <td>3</td>\n",
       "      <td>3</td>\n",
       "      <td>3</td>\n",
       "      <td>3</td>\n",
       "    </tr>\n",
       "  </tbody>\n",
       "</table>\n",
       "<p>192 rows × 5 columns</p>\n",
       "</div>"
      ],
      "text/plain": [
       "           body_text  id  incoming  user_id  created_at\n",
       "ticket_id                                              \n",
       "2.0                2   2         2        2           2\n",
       "8.0                5   5         5        5           5\n",
       "9.0               10  10        10       10          10\n",
       "10.0               3   3         3        3           3\n",
       "11.0               3   3         3        3           3\n",
       "...              ...  ..       ...      ...         ...\n",
       "1186.0             2   2         2        2           2\n",
       "1187.0             2   2         2        2           2\n",
       "1188.0             2   2         2        2           2\n",
       "1524.0             4   4         4        4           4\n",
       "1525.0             3   3         3        3           3\n",
       "\n",
       "[192 rows x 5 columns]"
      ]
     },
     "execution_count": 6,
     "metadata": {},
     "output_type": "execute_result"
    }
   ],
   "source": [
    "df_messages.groupby('ticket_id').count()"
   ]
  },
  {
   "cell_type": "code",
   "execution_count": 7,
   "id": "6b8dde34",
   "metadata": {
    "scrolled": true
   },
   "outputs": [
    {
     "data": {
      "text/html": [
       "<div>\n",
       "<style scoped>\n",
       "    .dataframe tbody tr th:only-of-type {\n",
       "        vertical-align: middle;\n",
       "    }\n",
       "\n",
       "    .dataframe tbody tr th {\n",
       "        vertical-align: top;\n",
       "    }\n",
       "\n",
       "    .dataframe thead th {\n",
       "        text-align: right;\n",
       "    }\n",
       "</style>\n",
       "<table border=\"1\" class=\"dataframe\">\n",
       "  <thead>\n",
       "    <tr style=\"text-align: right;\">\n",
       "      <th></th>\n",
       "      <th>body_text</th>\n",
       "      <th>id</th>\n",
       "      <th>incoming</th>\n",
       "      <th>ticket_id</th>\n",
       "      <th>user_id</th>\n",
       "      <th>created_at</th>\n",
       "    </tr>\n",
       "  </thead>\n",
       "  <tbody>\n",
       "    <tr>\n",
       "      <th>0</th>\n",
       "      <td>Cupidatat consectetur magna ex ipsum ut laboru...</td>\n",
       "      <td>4.302252e+10</td>\n",
       "      <td>False</td>\n",
       "      <td>2.0</td>\n",
       "      <td>4.301295e+10</td>\n",
       "      <td>2018-10-08 08:29:18</td>\n",
       "    </tr>\n",
       "    <tr>\n",
       "      <th>1</th>\n",
       "      <td>Detected intent: nutrition (confidence: 0.9767...</td>\n",
       "      <td>4.302252e+10</td>\n",
       "      <td>True</td>\n",
       "      <td>2.0</td>\n",
       "      <td>4.301295e+10</td>\n",
       "      <td>2018-10-08 08:29:22</td>\n",
       "    </tr>\n",
       "  </tbody>\n",
       "</table>\n",
       "</div>"
      ],
      "text/plain": [
       "                                           body_text            id  incoming  \\\n",
       "0  Cupidatat consectetur magna ex ipsum ut laboru...  4.302252e+10     False   \n",
       "1  Detected intent: nutrition (confidence: 0.9767...  4.302252e+10      True   \n",
       "\n",
       "   ticket_id       user_id          created_at  \n",
       "0        2.0  4.301295e+10 2018-10-08 08:29:18  \n",
       "1        2.0  4.301295e+10 2018-10-08 08:29:22  "
      ]
     },
     "execution_count": 7,
     "metadata": {},
     "output_type": "execute_result"
    }
   ],
   "source": [
    "df_messages.groupby('ticket_id').get_group(2.0)"
   ]
  },
  {
   "cell_type": "code",
   "execution_count": 8,
   "id": "dd8cf1ce",
   "metadata": {},
   "outputs": [],
   "source": [
    "text = 'Detected intent: fetal_movement (confidence: 0.340005435464587) He of his ever scene time power, minstrels dear hill she loved for knew. He pomp were reverie bidding'"
   ]
  },
  {
   "cell_type": "code",
   "execution_count": 9,
   "id": "7e3b35e3",
   "metadata": {},
   "outputs": [
    {
     "data": {
      "text/plain": [
       "True"
      ]
     },
     "execution_count": 9,
     "metadata": {},
     "output_type": "execute_result"
    }
   ],
   "source": [
    "'intent' in text"
   ]
  },
  {
   "cell_type": "code",
   "execution_count": 10,
   "id": "50419481",
   "metadata": {},
   "outputs": [
    {
     "data": {
      "text/plain": [
       "['Detected',\n",
       " 'intent:',\n",
       " 'fetal_movement',\n",
       " '(confidence:',\n",
       " '0.340005435464587)',\n",
       " 'He',\n",
       " 'of',\n",
       " 'his',\n",
       " 'ever',\n",
       " 'scene',\n",
       " 'time',\n",
       " 'power,',\n",
       " 'minstrels',\n",
       " 'dear',\n",
       " 'hill',\n",
       " 'she',\n",
       " 'loved',\n",
       " 'for',\n",
       " 'knew.',\n",
       " 'He',\n",
       " 'pomp',\n",
       " 'were',\n",
       " 'reverie',\n",
       " 'bidding']"
      ]
     },
     "execution_count": 10,
     "metadata": {},
     "output_type": "execute_result"
    }
   ],
   "source": [
    "text.split(' ')"
   ]
  },
  {
   "cell_type": "code",
   "execution_count": 11,
   "id": "31061c69",
   "metadata": {},
   "outputs": [
    {
     "data": {
      "text/plain": [
       "'fetal_movement'"
      ]
     },
     "execution_count": 11,
     "metadata": {},
     "output_type": "execute_result"
    }
   ],
   "source": [
    "text.split(' ')[2]"
   ]
  },
  {
   "cell_type": "code",
   "execution_count": 12,
   "id": "d1ecd120",
   "metadata": {},
   "outputs": [
    {
     "data": {
      "text/plain": [
       "['He',\n",
       " 'of',\n",
       " 'his',\n",
       " 'ever',\n",
       " 'scene',\n",
       " 'time',\n",
       " 'power,',\n",
       " 'minstrels',\n",
       " 'dear',\n",
       " 'hill',\n",
       " 'she',\n",
       " 'loved',\n",
       " 'for',\n",
       " 'knew.',\n",
       " 'He',\n",
       " 'pomp',\n",
       " 'were',\n",
       " 'reverie',\n",
       " 'bidding']"
      ]
     },
     "execution_count": 12,
     "metadata": {},
     "output_type": "execute_result"
    }
   ],
   "source": [
    "text.split(' ')[5:]"
   ]
  },
  {
   "cell_type": "code",
   "execution_count": 13,
   "id": "ecf3f012",
   "metadata": {},
   "outputs": [
    {
     "data": {
      "text/plain": [
       "'He of his ever scene time power, minstrels dear hill she loved for knew. He pomp were reverie bidding'"
      ]
     },
     "execution_count": 13,
     "metadata": {},
     "output_type": "execute_result"
    }
   ],
   "source": [
    "' '.join(text.split(' ')[5:])"
   ]
  },
  {
   "cell_type": "code",
   "execution_count": 14,
   "id": "a837cba8",
   "metadata": {},
   "outputs": [],
   "source": [
    "from typing import Tuple"
   ]
  },
  {
   "cell_type": "code",
   "execution_count": 15,
   "id": "f8e9d6d6",
   "metadata": {},
   "outputs": [],
   "source": [
    "def get_intent_and_description(body_text: str) -> Tuple[str, str]:\n",
    "    intent = ''\n",
    "    description = ''\n",
    "    if 'intent' in body_text:\n",
    "        intent = body_text.split(' ')[2]\n",
    "        description = ' '.join(body_text.split(' ')[5:])\n",
    "    else:\n",
    "        intent = None\n",
    "        description = body_text\n",
    "    return intent, description"
   ]
  },
  {
   "cell_type": "code",
   "execution_count": 16,
   "id": "e8f0cf95",
   "metadata": {},
   "outputs": [],
   "source": [
    "from typing import Dict, Any\n",
    "from datetime import datetime"
   ]
  },
  {
   "cell_type": "code",
   "execution_count": 17,
   "id": "db956445",
   "metadata": {},
   "outputs": [],
   "source": [
    "def create_message_object(msg_id: int, msg: str, user_id: int, created: datetime) -> Dict[str, Any]:\n",
    "    return {\n",
    "        \"id\": int(msg_id),\n",
    "        \"message\": msg,\n",
    "        \"created\": created,\n",
    "        \"updated\": created,\n",
    "        \"user_id\": int(user_id)\n",
    "    }"
   ]
  },
  {
   "cell_type": "code",
   "execution_count": null,
   "id": "8e79b2dd",
   "metadata": {},
   "outputs": [],
   "source": []
  },
  {
   "cell_type": "code",
   "execution_count": 18,
   "id": "74b43410",
   "metadata": {},
   "outputs": [
    {
     "data": {
      "text/html": [
       "<div>\n",
       "<style scoped>\n",
       "    .dataframe tbody tr th:only-of-type {\n",
       "        vertical-align: middle;\n",
       "    }\n",
       "\n",
       "    .dataframe tbody tr th {\n",
       "        vertical-align: top;\n",
       "    }\n",
       "\n",
       "    .dataframe thead th {\n",
       "        text-align: right;\n",
       "    }\n",
       "</style>\n",
       "<table border=\"1\" class=\"dataframe\">\n",
       "  <thead>\n",
       "    <tr style=\"text-align: right;\">\n",
       "      <th></th>\n",
       "      <th>body_text</th>\n",
       "      <th>id</th>\n",
       "      <th>incoming</th>\n",
       "      <th>ticket_id</th>\n",
       "      <th>user_id</th>\n",
       "      <th>created_at</th>\n",
       "    </tr>\n",
       "  </thead>\n",
       "  <tbody>\n",
       "    <tr>\n",
       "      <th>0</th>\n",
       "      <td>Cupidatat consectetur magna ex ipsum ut laboru...</td>\n",
       "      <td>4.302252e+10</td>\n",
       "      <td>False</td>\n",
       "      <td>2.0</td>\n",
       "      <td>4.301295e+10</td>\n",
       "      <td>2018-10-08 08:29:18</td>\n",
       "    </tr>\n",
       "    <tr>\n",
       "      <th>1</th>\n",
       "      <td>Detected intent: nutrition (confidence: 0.9767...</td>\n",
       "      <td>4.302252e+10</td>\n",
       "      <td>True</td>\n",
       "      <td>2.0</td>\n",
       "      <td>4.301295e+10</td>\n",
       "      <td>2018-10-08 08:29:22</td>\n",
       "    </tr>\n",
       "    <tr>\n",
       "      <th>2</th>\n",
       "      <td>Detected intent: pain (confidence: 0.976750003...</td>\n",
       "      <td>4.302252e+10</td>\n",
       "      <td>True</td>\n",
       "      <td>8.0</td>\n",
       "      <td>4.301295e+10</td>\n",
       "      <td>2018-10-08 08:42:01</td>\n",
       "    </tr>\n",
       "    <tr>\n",
       "      <th>3</th>\n",
       "      <td>Detected intent: pregnancy_condition (confiden...</td>\n",
       "      <td>4.302252e+10</td>\n",
       "      <td>True</td>\n",
       "      <td>8.0</td>\n",
       "      <td>4.301295e+10</td>\n",
       "      <td>2018-10-08 08:42:01</td>\n",
       "    </tr>\n",
       "    <tr>\n",
       "      <th>4</th>\n",
       "      <td>Detected intent: pain (confidence: 0.878675000...</td>\n",
       "      <td>4.302255e+10</td>\n",
       "      <td>False</td>\n",
       "      <td>8.0</td>\n",
       "      <td>4.301295e+10</td>\n",
       "      <td>2018-10-08 10:13:22</td>\n",
       "    </tr>\n",
       "  </tbody>\n",
       "</table>\n",
       "</div>"
      ],
      "text/plain": [
       "                                           body_text            id  incoming  \\\n",
       "0  Cupidatat consectetur magna ex ipsum ut laboru...  4.302252e+10     False   \n",
       "1  Detected intent: nutrition (confidence: 0.9767...  4.302252e+10      True   \n",
       "2  Detected intent: pain (confidence: 0.976750003...  4.302252e+10      True   \n",
       "3  Detected intent: pregnancy_condition (confiden...  4.302252e+10      True   \n",
       "4  Detected intent: pain (confidence: 0.878675000...  4.302255e+10     False   \n",
       "\n",
       "   ticket_id       user_id          created_at  \n",
       "0        2.0  4.301295e+10 2018-10-08 08:29:18  \n",
       "1        2.0  4.301295e+10 2018-10-08 08:29:22  \n",
       "2        8.0  4.301295e+10 2018-10-08 08:42:01  \n",
       "3        8.0  4.301295e+10 2018-10-08 08:42:01  \n",
       "4        8.0  4.301295e+10 2018-10-08 10:13:22  "
      ]
     },
     "execution_count": 18,
     "metadata": {},
     "output_type": "execute_result"
    }
   ],
   "source": [
    "df_messages.head()"
   ]
  },
  {
   "cell_type": "code",
   "execution_count": 19,
   "id": "fd704aa9",
   "metadata": {},
   "outputs": [],
   "source": [
    "df_messages['intent'] = df_messages.apply(lambda row: get_intent_and_description(row['body_text'])[0], axis=1)"
   ]
  },
  {
   "cell_type": "code",
   "execution_count": 20,
   "id": "b4b1213a",
   "metadata": {},
   "outputs": [],
   "source": [
    "df_messages['description'] = df_messages.apply(lambda row: get_intent_and_description(row['body_text'])[1], axis=1)"
   ]
  },
  {
   "cell_type": "code",
   "execution_count": 21,
   "id": "89b4ec9c",
   "metadata": {
    "scrolled": true
   },
   "outputs": [
    {
     "data": {
      "text/html": [
       "<div>\n",
       "<style scoped>\n",
       "    .dataframe tbody tr th:only-of-type {\n",
       "        vertical-align: middle;\n",
       "    }\n",
       "\n",
       "    .dataframe tbody tr th {\n",
       "        vertical-align: top;\n",
       "    }\n",
       "\n",
       "    .dataframe thead th {\n",
       "        text-align: right;\n",
       "    }\n",
       "</style>\n",
       "<table border=\"1\" class=\"dataframe\">\n",
       "  <thead>\n",
       "    <tr style=\"text-align: right;\">\n",
       "      <th></th>\n",
       "      <th>body_text</th>\n",
       "      <th>id</th>\n",
       "      <th>incoming</th>\n",
       "      <th>ticket_id</th>\n",
       "      <th>user_id</th>\n",
       "      <th>created_at</th>\n",
       "      <th>intent</th>\n",
       "      <th>description</th>\n",
       "    </tr>\n",
       "  </thead>\n",
       "  <tbody>\n",
       "    <tr>\n",
       "      <th>0</th>\n",
       "      <td>Cupidatat consectetur magna ex ipsum ut laboru...</td>\n",
       "      <td>4.302252e+10</td>\n",
       "      <td>False</td>\n",
       "      <td>2.0</td>\n",
       "      <td>4.301295e+10</td>\n",
       "      <td>2018-10-08 08:29:18</td>\n",
       "      <td>None</td>\n",
       "      <td>Cupidatat consectetur magna ex ipsum ut laboru...</td>\n",
       "    </tr>\n",
       "    <tr>\n",
       "      <th>1</th>\n",
       "      <td>Detected intent: nutrition (confidence: 0.9767...</td>\n",
       "      <td>4.302252e+10</td>\n",
       "      <td>True</td>\n",
       "      <td>2.0</td>\n",
       "      <td>4.301295e+10</td>\n",
       "      <td>2018-10-08 08:29:22</td>\n",
       "      <td>nutrition</td>\n",
       "      <td>Officia consequat sunt aute laboris do volupta...</td>\n",
       "    </tr>\n",
       "    <tr>\n",
       "      <th>2</th>\n",
       "      <td>Detected intent: pain (confidence: 0.976750003...</td>\n",
       "      <td>4.302252e+10</td>\n",
       "      <td>True</td>\n",
       "      <td>8.0</td>\n",
       "      <td>4.301295e+10</td>\n",
       "      <td>2018-10-08 08:42:01</td>\n",
       "      <td>pain</td>\n",
       "      <td>Ex velit ea eu pariatur. Non commodo cillum ir...</td>\n",
       "    </tr>\n",
       "    <tr>\n",
       "      <th>3</th>\n",
       "      <td>Detected intent: pregnancy_condition (confiden...</td>\n",
       "      <td>4.302252e+10</td>\n",
       "      <td>True</td>\n",
       "      <td>8.0</td>\n",
       "      <td>4.301295e+10</td>\n",
       "      <td>2018-10-08 08:42:01</td>\n",
       "      <td>pregnancy_condition</td>\n",
       "      <td>Reprehenderit elit labore officia non pariatur...</td>\n",
       "    </tr>\n",
       "    <tr>\n",
       "      <th>4</th>\n",
       "      <td>Detected intent: pain (confidence: 0.878675000...</td>\n",
       "      <td>4.302255e+10</td>\n",
       "      <td>False</td>\n",
       "      <td>8.0</td>\n",
       "      <td>4.301295e+10</td>\n",
       "      <td>2018-10-08 10:13:22</td>\n",
       "      <td>pain</td>\n",
       "      <td>proident enim eiusmod mollit sit laborum commo...</td>\n",
       "    </tr>\n",
       "  </tbody>\n",
       "</table>\n",
       "</div>"
      ],
      "text/plain": [
       "                                           body_text            id  incoming  \\\n",
       "0  Cupidatat consectetur magna ex ipsum ut laboru...  4.302252e+10     False   \n",
       "1  Detected intent: nutrition (confidence: 0.9767...  4.302252e+10      True   \n",
       "2  Detected intent: pain (confidence: 0.976750003...  4.302252e+10      True   \n",
       "3  Detected intent: pregnancy_condition (confiden...  4.302252e+10      True   \n",
       "4  Detected intent: pain (confidence: 0.878675000...  4.302255e+10     False   \n",
       "\n",
       "   ticket_id       user_id          created_at               intent  \\\n",
       "0        2.0  4.301295e+10 2018-10-08 08:29:18                 None   \n",
       "1        2.0  4.301295e+10 2018-10-08 08:29:22            nutrition   \n",
       "2        8.0  4.301295e+10 2018-10-08 08:42:01                 pain   \n",
       "3        8.0  4.301295e+10 2018-10-08 08:42:01  pregnancy_condition   \n",
       "4        8.0  4.301295e+10 2018-10-08 10:13:22                 pain   \n",
       "\n",
       "                                         description  \n",
       "0  Cupidatat consectetur magna ex ipsum ut laboru...  \n",
       "1  Officia consequat sunt aute laboris do volupta...  \n",
       "2  Ex velit ea eu pariatur. Non commodo cillum ir...  \n",
       "3  Reprehenderit elit labore officia non pariatur...  \n",
       "4  proident enim eiusmod mollit sit laborum commo...  "
      ]
     },
     "execution_count": 21,
     "metadata": {},
     "output_type": "execute_result"
    }
   ],
   "source": [
    "df_messages.head()"
   ]
  },
  {
   "cell_type": "code",
   "execution_count": 22,
   "id": "a8825d2b",
   "metadata": {},
   "outputs": [],
   "source": [
    "df_messages['message'] = df_messages.apply(lambda row: create_message_object(\n",
    "    row['id'], row['description'], row['user_id'], row['created_at']), axis=1)"
   ]
  },
  {
   "cell_type": "code",
   "execution_count": 23,
   "id": "5e1f8237",
   "metadata": {},
   "outputs": [
    {
     "data": {
      "text/html": [
       "<div>\n",
       "<style scoped>\n",
       "    .dataframe tbody tr th:only-of-type {\n",
       "        vertical-align: middle;\n",
       "    }\n",
       "\n",
       "    .dataframe tbody tr th {\n",
       "        vertical-align: top;\n",
       "    }\n",
       "\n",
       "    .dataframe thead th {\n",
       "        text-align: right;\n",
       "    }\n",
       "</style>\n",
       "<table border=\"1\" class=\"dataframe\">\n",
       "  <thead>\n",
       "    <tr style=\"text-align: right;\">\n",
       "      <th></th>\n",
       "      <th>body_text</th>\n",
       "      <th>id</th>\n",
       "      <th>incoming</th>\n",
       "      <th>ticket_id</th>\n",
       "      <th>user_id</th>\n",
       "      <th>created_at</th>\n",
       "      <th>intent</th>\n",
       "      <th>description</th>\n",
       "      <th>message</th>\n",
       "    </tr>\n",
       "  </thead>\n",
       "  <tbody>\n",
       "    <tr>\n",
       "      <th>0</th>\n",
       "      <td>Cupidatat consectetur magna ex ipsum ut laboru...</td>\n",
       "      <td>4.302252e+10</td>\n",
       "      <td>False</td>\n",
       "      <td>2.0</td>\n",
       "      <td>4.301295e+10</td>\n",
       "      <td>2018-10-08 08:29:18</td>\n",
       "      <td>None</td>\n",
       "      <td>Cupidatat consectetur magna ex ipsum ut laboru...</td>\n",
       "      <td>{'id': 43022520334, 'message': 'Cupidatat cons...</td>\n",
       "    </tr>\n",
       "    <tr>\n",
       "      <th>1</th>\n",
       "      <td>Detected intent: nutrition (confidence: 0.9767...</td>\n",
       "      <td>4.302252e+10</td>\n",
       "      <td>True</td>\n",
       "      <td>2.0</td>\n",
       "      <td>4.301295e+10</td>\n",
       "      <td>2018-10-08 08:29:22</td>\n",
       "      <td>nutrition</td>\n",
       "      <td>Officia consequat sunt aute laboris do volupta...</td>\n",
       "      <td>{'id': 43022520336, 'message': 'Officia conseq...</td>\n",
       "    </tr>\n",
       "    <tr>\n",
       "      <th>2</th>\n",
       "      <td>Detected intent: pain (confidence: 0.976750003...</td>\n",
       "      <td>4.302252e+10</td>\n",
       "      <td>True</td>\n",
       "      <td>8.0</td>\n",
       "      <td>4.301295e+10</td>\n",
       "      <td>2018-10-08 08:42:01</td>\n",
       "      <td>pain</td>\n",
       "      <td>Ex velit ea eu pariatur. Non commodo cillum ir...</td>\n",
       "      <td>{'id': 43022524893, 'message': 'Ex velit ea eu...</td>\n",
       "    </tr>\n",
       "    <tr>\n",
       "      <th>3</th>\n",
       "      <td>Detected intent: pregnancy_condition (confiden...</td>\n",
       "      <td>4.302252e+10</td>\n",
       "      <td>True</td>\n",
       "      <td>8.0</td>\n",
       "      <td>4.301295e+10</td>\n",
       "      <td>2018-10-08 08:42:01</td>\n",
       "      <td>pregnancy_condition</td>\n",
       "      <td>Reprehenderit elit labore officia non pariatur...</td>\n",
       "      <td>{'id': 43022524894, 'message': 'Reprehenderit ...</td>\n",
       "    </tr>\n",
       "    <tr>\n",
       "      <th>4</th>\n",
       "      <td>Detected intent: pain (confidence: 0.878675000...</td>\n",
       "      <td>4.302255e+10</td>\n",
       "      <td>False</td>\n",
       "      <td>8.0</td>\n",
       "      <td>4.301295e+10</td>\n",
       "      <td>2018-10-08 10:13:22</td>\n",
       "      <td>pain</td>\n",
       "      <td>proident enim eiusmod mollit sit laborum commo...</td>\n",
       "      <td>{'id': 43022545487, 'message': 'proident enim ...</td>\n",
       "    </tr>\n",
       "  </tbody>\n",
       "</table>\n",
       "</div>"
      ],
      "text/plain": [
       "                                           body_text            id  incoming  \\\n",
       "0  Cupidatat consectetur magna ex ipsum ut laboru...  4.302252e+10     False   \n",
       "1  Detected intent: nutrition (confidence: 0.9767...  4.302252e+10      True   \n",
       "2  Detected intent: pain (confidence: 0.976750003...  4.302252e+10      True   \n",
       "3  Detected intent: pregnancy_condition (confiden...  4.302252e+10      True   \n",
       "4  Detected intent: pain (confidence: 0.878675000...  4.302255e+10     False   \n",
       "\n",
       "   ticket_id       user_id          created_at               intent  \\\n",
       "0        2.0  4.301295e+10 2018-10-08 08:29:18                 None   \n",
       "1        2.0  4.301295e+10 2018-10-08 08:29:22            nutrition   \n",
       "2        8.0  4.301295e+10 2018-10-08 08:42:01                 pain   \n",
       "3        8.0  4.301295e+10 2018-10-08 08:42:01  pregnancy_condition   \n",
       "4        8.0  4.301295e+10 2018-10-08 10:13:22                 pain   \n",
       "\n",
       "                                         description  \\\n",
       "0  Cupidatat consectetur magna ex ipsum ut laboru...   \n",
       "1  Officia consequat sunt aute laboris do volupta...   \n",
       "2  Ex velit ea eu pariatur. Non commodo cillum ir...   \n",
       "3  Reprehenderit elit labore officia non pariatur...   \n",
       "4  proident enim eiusmod mollit sit laborum commo...   \n",
       "\n",
       "                                             message  \n",
       "0  {'id': 43022520334, 'message': 'Cupidatat cons...  \n",
       "1  {'id': 43022520336, 'message': 'Officia conseq...  \n",
       "2  {'id': 43022524893, 'message': 'Ex velit ea eu...  \n",
       "3  {'id': 43022524894, 'message': 'Reprehenderit ...  \n",
       "4  {'id': 43022545487, 'message': 'proident enim ...  "
      ]
     },
     "execution_count": 23,
     "metadata": {},
     "output_type": "execute_result"
    }
   ],
   "source": [
    "df_messages.head()"
   ]
  },
  {
   "cell_type": "code",
   "execution_count": 24,
   "id": "1673e3da",
   "metadata": {},
   "outputs": [
    {
     "data": {
      "text/plain": [
       "{'id': 43022520336,\n",
       " 'message': 'Officia consequat sunt aute laboris do voluptate consequat ut enim cillum excepteur.',\n",
       " 'created': Timestamp('2018-10-08 08:29:22'),\n",
       " 'updated': Timestamp('2018-10-08 08:29:22'),\n",
       " 'user_id': 43012945551}"
      ]
     },
     "execution_count": 24,
     "metadata": {},
     "output_type": "execute_result"
    }
   ],
   "source": [
    "df_messages.iloc[1].message"
   ]
  },
  {
   "cell_type": "code",
   "execution_count": 25,
   "id": "726bad29",
   "metadata": {},
   "outputs": [],
   "source": [
    "obj = df_messages.groupby('ticket_id')"
   ]
  },
  {
   "cell_type": "code",
   "execution_count": 26,
   "id": "656a1b0c",
   "metadata": {
    "scrolled": true
   },
   "outputs": [
    {
     "data": {
      "text/html": [
       "<div>\n",
       "<style scoped>\n",
       "    .dataframe tbody tr th:only-of-type {\n",
       "        vertical-align: middle;\n",
       "    }\n",
       "\n",
       "    .dataframe tbody tr th {\n",
       "        vertical-align: top;\n",
       "    }\n",
       "\n",
       "    .dataframe thead th {\n",
       "        text-align: right;\n",
       "    }\n",
       "</style>\n",
       "<table border=\"1\" class=\"dataframe\">\n",
       "  <thead>\n",
       "    <tr style=\"text-align: right;\">\n",
       "      <th></th>\n",
       "      <th>body_text</th>\n",
       "      <th>id</th>\n",
       "      <th>incoming</th>\n",
       "      <th>ticket_id</th>\n",
       "      <th>user_id</th>\n",
       "      <th>created_at</th>\n",
       "      <th>intent</th>\n",
       "      <th>description</th>\n",
       "      <th>message</th>\n",
       "    </tr>\n",
       "  </thead>\n",
       "  <tbody>\n",
       "    <tr>\n",
       "      <th>2</th>\n",
       "      <td>Detected intent: pain (confidence: 0.976750003...</td>\n",
       "      <td>4.302252e+10</td>\n",
       "      <td>True</td>\n",
       "      <td>8.0</td>\n",
       "      <td>4.301295e+10</td>\n",
       "      <td>2018-10-08 08:42:01</td>\n",
       "      <td>pain</td>\n",
       "      <td>Ex velit ea eu pariatur. Non commodo cillum ir...</td>\n",
       "      <td>{'id': 43022524893, 'message': 'Ex velit ea eu...</td>\n",
       "    </tr>\n",
       "    <tr>\n",
       "      <th>3</th>\n",
       "      <td>Detected intent: pregnancy_condition (confiden...</td>\n",
       "      <td>4.302252e+10</td>\n",
       "      <td>True</td>\n",
       "      <td>8.0</td>\n",
       "      <td>4.301295e+10</td>\n",
       "      <td>2018-10-08 08:42:01</td>\n",
       "      <td>pregnancy_condition</td>\n",
       "      <td>Reprehenderit elit labore officia non pariatur...</td>\n",
       "      <td>{'id': 43022524894, 'message': 'Reprehenderit ...</td>\n",
       "    </tr>\n",
       "    <tr>\n",
       "      <th>4</th>\n",
       "      <td>Detected intent: pain (confidence: 0.878675000...</td>\n",
       "      <td>4.302255e+10</td>\n",
       "      <td>False</td>\n",
       "      <td>8.0</td>\n",
       "      <td>4.301295e+10</td>\n",
       "      <td>2018-10-08 10:13:22</td>\n",
       "      <td>pain</td>\n",
       "      <td>proident enim eiusmod mollit sit laborum commo...</td>\n",
       "      <td>{'id': 43022545487, 'message': 'proident enim ...</td>\n",
       "    </tr>\n",
       "    <tr>\n",
       "      <th>5</th>\n",
       "      <td>Detected intent: pain (confidence: 0.878675000...</td>\n",
       "      <td>4.302292e+10</td>\n",
       "      <td>True</td>\n",
       "      <td>8.0</td>\n",
       "      <td>4.301295e+10</td>\n",
       "      <td>2018-10-09 04:36:07</td>\n",
       "      <td>pain</td>\n",
       "      <td>Sint labore nisi aliquip quis dolore ad do ull...</td>\n",
       "      <td>{'id': 43022915626, 'message': 'Sint labore ni...</td>\n",
       "    </tr>\n",
       "    <tr>\n",
       "      <th>6</th>\n",
       "      <td>Detected intent: headache (confidence: 0.76780...</td>\n",
       "      <td>4.302296e+10</td>\n",
       "      <td>True</td>\n",
       "      <td>8.0</td>\n",
       "      <td>4.301295e+10</td>\n",
       "      <td>2018-10-09 08:42:26</td>\n",
       "      <td>headache</td>\n",
       "      <td>Cupidatat consectetur magna ex ipsum ut laboru...</td>\n",
       "      <td>{'id': 43022962852, 'message': 'Cupidatat cons...</td>\n",
       "    </tr>\n",
       "  </tbody>\n",
       "</table>\n",
       "</div>"
      ],
      "text/plain": [
       "                                           body_text            id  incoming  \\\n",
       "2  Detected intent: pain (confidence: 0.976750003...  4.302252e+10      True   \n",
       "3  Detected intent: pregnancy_condition (confiden...  4.302252e+10      True   \n",
       "4  Detected intent: pain (confidence: 0.878675000...  4.302255e+10     False   \n",
       "5  Detected intent: pain (confidence: 0.878675000...  4.302292e+10      True   \n",
       "6  Detected intent: headache (confidence: 0.76780...  4.302296e+10      True   \n",
       "\n",
       "   ticket_id       user_id          created_at               intent  \\\n",
       "2        8.0  4.301295e+10 2018-10-08 08:42:01                 pain   \n",
       "3        8.0  4.301295e+10 2018-10-08 08:42:01  pregnancy_condition   \n",
       "4        8.0  4.301295e+10 2018-10-08 10:13:22                 pain   \n",
       "5        8.0  4.301295e+10 2018-10-09 04:36:07                 pain   \n",
       "6        8.0  4.301295e+10 2018-10-09 08:42:26             headache   \n",
       "\n",
       "                                         description  \\\n",
       "2  Ex velit ea eu pariatur. Non commodo cillum ir...   \n",
       "3  Reprehenderit elit labore officia non pariatur...   \n",
       "4  proident enim eiusmod mollit sit laborum commo...   \n",
       "5  Sint labore nisi aliquip quis dolore ad do ull...   \n",
       "6  Cupidatat consectetur magna ex ipsum ut laboru...   \n",
       "\n",
       "                                             message  \n",
       "2  {'id': 43022524893, 'message': 'Ex velit ea eu...  \n",
       "3  {'id': 43022524894, 'message': 'Reprehenderit ...  \n",
       "4  {'id': 43022545487, 'message': 'proident enim ...  \n",
       "5  {'id': 43022915626, 'message': 'Sint labore ni...  \n",
       "6  {'id': 43022962852, 'message': 'Cupidatat cons...  "
      ]
     },
     "execution_count": 26,
     "metadata": {},
     "output_type": "execute_result"
    }
   ],
   "source": [
    "obj.get_group(8.0)"
   ]
  },
  {
   "cell_type": "code",
   "execution_count": 27,
   "id": "9c7fd420",
   "metadata": {
    "scrolled": true
   },
   "outputs": [
    {
     "data": {
      "text/html": [
       "<div>\n",
       "<style scoped>\n",
       "    .dataframe tbody tr th:only-of-type {\n",
       "        vertical-align: middle;\n",
       "    }\n",
       "\n",
       "    .dataframe tbody tr th {\n",
       "        vertical-align: top;\n",
       "    }\n",
       "\n",
       "    .dataframe thead th {\n",
       "        text-align: right;\n",
       "    }\n",
       "</style>\n",
       "<table border=\"1\" class=\"dataframe\">\n",
       "  <thead>\n",
       "    <tr style=\"text-align: right;\">\n",
       "      <th></th>\n",
       "      <th>body_text</th>\n",
       "      <th>id</th>\n",
       "      <th>incoming</th>\n",
       "      <th>ticket_id</th>\n",
       "      <th>user_id</th>\n",
       "      <th>created_at</th>\n",
       "      <th>intent</th>\n",
       "      <th>description</th>\n",
       "      <th>message</th>\n",
       "    </tr>\n",
       "  </thead>\n",
       "  <tbody>\n",
       "    <tr>\n",
       "      <th>1100</th>\n",
       "      <td>Detected intent: nutrition (confidence: 0.3400...</td>\n",
       "      <td>4.305235e+10</td>\n",
       "      <td>True</td>\n",
       "      <td>1524.0</td>\n",
       "      <td>4.302249e+10</td>\n",
       "      <td>2019-01-28 08:43:23</td>\n",
       "      <td>nutrition</td>\n",
       "      <td>hellas dares. Though nor in not there in, bidd...</td>\n",
       "      <td>{'id': 43052346575, 'message': 'hellas dares. ...</td>\n",
       "    </tr>\n",
       "    <tr>\n",
       "      <th>1101</th>\n",
       "      <td>Detected intent: survey_response (confidence: ...</td>\n",
       "      <td>4.305255e+10</td>\n",
       "      <td>False</td>\n",
       "      <td>1524.0</td>\n",
       "      <td>4.301295e+10</td>\n",
       "      <td>2019-01-29 10:05:56</td>\n",
       "      <td>survey_response</td>\n",
       "      <td>light is thy. Revel none and times neer yet to...</td>\n",
       "      <td>{'id': 43052554092, 'message': 'light is thy. ...</td>\n",
       "    </tr>\n",
       "    <tr>\n",
       "      <th>1102</th>\n",
       "      <td>Detected intent: baby_condition (confidence: 0...</td>\n",
       "      <td>4.305235e+10</td>\n",
       "      <td>True</td>\n",
       "      <td>1525.0</td>\n",
       "      <td>4.302249e+10</td>\n",
       "      <td>2018-12-03 06:42:15</td>\n",
       "      <td>baby_condition</td>\n",
       "      <td>heralds deemed superstition, might had sore al...</td>\n",
       "      <td>{'id': 43052346587, 'message': 'heralds deemed...</td>\n",
       "    </tr>\n",
       "    <tr>\n",
       "      <th>1103</th>\n",
       "      <td>Detected intent: breastfeeding (confidence: 0....</td>\n",
       "      <td>4.305235e+10</td>\n",
       "      <td>True</td>\n",
       "      <td>1525.0</td>\n",
       "      <td>4.302249e+10</td>\n",
       "      <td>2019-01-28 04:29:09</td>\n",
       "      <td>breastfeeding</td>\n",
       "      <td>Reprehenderit elit labore officia non pariatur...</td>\n",
       "      <td>{'id': 43052346594, 'message': 'Reprehenderit ...</td>\n",
       "    </tr>\n",
       "    <tr>\n",
       "      <th>1104</th>\n",
       "      <td>Detected intent: qsurvey_positive (confidence:...</td>\n",
       "      <td>4.305251e+10</td>\n",
       "      <td>False</td>\n",
       "      <td>1525.0</td>\n",
       "      <td>4.301295e+10</td>\n",
       "      <td>2019-01-29 07:44:57</td>\n",
       "      <td>qsurvey_positive</td>\n",
       "      <td>proident enim eiusmod mollit sit laborum commo...</td>\n",
       "      <td>{'id': 43052512785, 'message': 'proident enim ...</td>\n",
       "    </tr>\n",
       "  </tbody>\n",
       "</table>\n",
       "</div>"
      ],
      "text/plain": [
       "                                              body_text            id  \\\n",
       "1100  Detected intent: nutrition (confidence: 0.3400...  4.305235e+10   \n",
       "1101  Detected intent: survey_response (confidence: ...  4.305255e+10   \n",
       "1102  Detected intent: baby_condition (confidence: 0...  4.305235e+10   \n",
       "1103  Detected intent: breastfeeding (confidence: 0....  4.305235e+10   \n",
       "1104  Detected intent: qsurvey_positive (confidence:...  4.305251e+10   \n",
       "\n",
       "      incoming  ticket_id       user_id          created_at            intent  \\\n",
       "1100      True     1524.0  4.302249e+10 2019-01-28 08:43:23         nutrition   \n",
       "1101     False     1524.0  4.301295e+10 2019-01-29 10:05:56   survey_response   \n",
       "1102      True     1525.0  4.302249e+10 2018-12-03 06:42:15    baby_condition   \n",
       "1103      True     1525.0  4.302249e+10 2019-01-28 04:29:09     breastfeeding   \n",
       "1104     False     1525.0  4.301295e+10 2019-01-29 07:44:57  qsurvey_positive   \n",
       "\n",
       "                                            description  \\\n",
       "1100  hellas dares. Though nor in not there in, bidd...   \n",
       "1101  light is thy. Revel none and times neer yet to...   \n",
       "1102  heralds deemed superstition, might had sore al...   \n",
       "1103  Reprehenderit elit labore officia non pariatur...   \n",
       "1104  proident enim eiusmod mollit sit laborum commo...   \n",
       "\n",
       "                                                message  \n",
       "1100  {'id': 43052346575, 'message': 'hellas dares. ...  \n",
       "1101  {'id': 43052554092, 'message': 'light is thy. ...  \n",
       "1102  {'id': 43052346587, 'message': 'heralds deemed...  \n",
       "1103  {'id': 43052346594, 'message': 'Reprehenderit ...  \n",
       "1104  {'id': 43052512785, 'message': 'proident enim ...  "
      ]
     },
     "execution_count": 27,
     "metadata": {},
     "output_type": "execute_result"
    }
   ],
   "source": [
    "df_messages.tail()"
   ]
  },
  {
   "cell_type": "code",
   "execution_count": null,
   "id": "2d00dbba",
   "metadata": {},
   "outputs": [],
   "source": []
  },
  {
   "cell_type": "code",
   "execution_count": 28,
   "id": "12969640",
   "metadata": {},
   "outputs": [],
   "source": [
    "messages_df_list = []"
   ]
  },
  {
   "cell_type": "code",
   "execution_count": 29,
   "id": "d893dbde",
   "metadata": {
    "scrolled": true
   },
   "outputs": [],
   "source": [
    "for group_name, df_group in obj:\n",
    "    incoming_message = []\n",
    "    outgoing_message = []\n",
    "    intents = set()\n",
    "    for row_index, row in df_group.iterrows():\n",
    "        \n",
    "        if row['incoming'] == True:\n",
    "            incoming_message.append(row['message'])\n",
    "            intents.add(row['intent'])\n",
    "        else:\n",
    "            outgoing_message.append(row['message'])\n",
    "            intents.add(row['intent'])\n",
    "            \n",
    "    messages_df_list.append([group_name, list(intents), incoming_message, outgoing_message])"
   ]
  },
  {
   "cell_type": "code",
   "execution_count": 30,
   "id": "62a071f9",
   "metadata": {},
   "outputs": [
    {
     "data": {
      "text/plain": [
       "[2.0,\n",
       " ['nutrition', None],\n",
       " [{'id': 43022520336,\n",
       "   'message': 'Officia consequat sunt aute laboris do voluptate consequat ut enim cillum excepteur.',\n",
       "   'created': Timestamp('2018-10-08 08:29:22'),\n",
       "   'updated': Timestamp('2018-10-08 08:29:22'),\n",
       "   'user_id': 43012945551}],\n",
       " [{'id': 43022520334,\n",
       "   'message': 'Cupidatat consectetur magna ex ipsum ut laborum dolor ad do quis.',\n",
       "   'created': Timestamp('2018-10-08 08:29:18'),\n",
       "   'updated': Timestamp('2018-10-08 08:29:18'),\n",
       "   'user_id': 43012945552}]]"
      ]
     },
     "execution_count": 30,
     "metadata": {},
     "output_type": "execute_result"
    }
   ],
   "source": [
    "messages_df_list[0]"
   ]
  },
  {
   "cell_type": "code",
   "execution_count": 31,
   "id": "6379ed1f",
   "metadata": {},
   "outputs": [],
   "source": [
    "messages_df = pd.DataFrame(messages_df_list, columns=['ticket_id', 'intents', 'incoming_messages', 'outgoing_messages'])"
   ]
  },
  {
   "cell_type": "code",
   "execution_count": 32,
   "id": "0cf98737",
   "metadata": {},
   "outputs": [
    {
     "data": {
      "text/html": [
       "<div>\n",
       "<style scoped>\n",
       "    .dataframe tbody tr th:only-of-type {\n",
       "        vertical-align: middle;\n",
       "    }\n",
       "\n",
       "    .dataframe tbody tr th {\n",
       "        vertical-align: top;\n",
       "    }\n",
       "\n",
       "    .dataframe thead th {\n",
       "        text-align: right;\n",
       "    }\n",
       "</style>\n",
       "<table border=\"1\" class=\"dataframe\">\n",
       "  <thead>\n",
       "    <tr style=\"text-align: right;\">\n",
       "      <th></th>\n",
       "      <th>ticket_id</th>\n",
       "      <th>intents</th>\n",
       "      <th>incoming_messages</th>\n",
       "      <th>outgoing_messages</th>\n",
       "    </tr>\n",
       "  </thead>\n",
       "  <tbody>\n",
       "    <tr>\n",
       "      <th>0</th>\n",
       "      <td>2.0</td>\n",
       "      <td>[nutrition, None]</td>\n",
       "      <td>[{'id': 43022520336, 'message': 'Officia conse...</td>\n",
       "      <td>[{'id': 43022520334, 'message': 'Cupidatat con...</td>\n",
       "    </tr>\n",
       "    <tr>\n",
       "      <th>1</th>\n",
       "      <td>8.0</td>\n",
       "      <td>[pain, pregnancy_condition, headache]</td>\n",
       "      <td>[{'id': 43022524893, 'message': 'Ex velit ea e...</td>\n",
       "      <td>[{'id': 43022545487, 'message': 'proident enim...</td>\n",
       "    </tr>\n",
       "    <tr>\n",
       "      <th>2</th>\n",
       "      <td>9.0</td>\n",
       "      <td>[qsurvey_positive, ok_thanks, survey_response,...</td>\n",
       "      <td>[{'id': 43022725673, 'message': 'Ex velit ea e...</td>\n",
       "      <td>[{'id': 43022525662, 'message': 'Officia conse...</td>\n",
       "    </tr>\n",
       "    <tr>\n",
       "      <th>3</th>\n",
       "      <td>10.0</td>\n",
       "      <td>[swelling, fetal_movement, ok_thanks]</td>\n",
       "      <td>[{'id': 43022549306, 'message': 'nor his of. S...</td>\n",
       "      <td>[{'id': 43022552951, 'message': 'day or her ba...</td>\n",
       "    </tr>\n",
       "    <tr>\n",
       "      <th>4</th>\n",
       "      <td>11.0</td>\n",
       "      <td>[pain, ok_thanks, qsurvey_positive]</td>\n",
       "      <td>[{'id': 43022944597, 'message': 'heralds deeme...</td>\n",
       "      <td>[{'id': 43022935507, 'message': 'light is thy....</td>\n",
       "    </tr>\n",
       "  </tbody>\n",
       "</table>\n",
       "</div>"
      ],
      "text/plain": [
       "   ticket_id                                            intents  \\\n",
       "0        2.0                                  [nutrition, None]   \n",
       "1        8.0              [pain, pregnancy_condition, headache]   \n",
       "2        9.0  [qsurvey_positive, ok_thanks, survey_response,...   \n",
       "3       10.0              [swelling, fetal_movement, ok_thanks]   \n",
       "4       11.0                [pain, ok_thanks, qsurvey_positive]   \n",
       "\n",
       "                                   incoming_messages  \\\n",
       "0  [{'id': 43022520336, 'message': 'Officia conse...   \n",
       "1  [{'id': 43022524893, 'message': 'Ex velit ea e...   \n",
       "2  [{'id': 43022725673, 'message': 'Ex velit ea e...   \n",
       "3  [{'id': 43022549306, 'message': 'nor his of. S...   \n",
       "4  [{'id': 43022944597, 'message': 'heralds deeme...   \n",
       "\n",
       "                                   outgoing_messages  \n",
       "0  [{'id': 43022520334, 'message': 'Cupidatat con...  \n",
       "1  [{'id': 43022545487, 'message': 'proident enim...  \n",
       "2  [{'id': 43022525662, 'message': 'Officia conse...  \n",
       "3  [{'id': 43022552951, 'message': 'day or her ba...  \n",
       "4  [{'id': 43022935507, 'message': 'light is thy....  "
      ]
     },
     "execution_count": 32,
     "metadata": {},
     "output_type": "execute_result"
    }
   ],
   "source": [
    "messages_df.head()"
   ]
  },
  {
   "cell_type": "code",
   "execution_count": 33,
   "id": "02ca790b",
   "metadata": {},
   "outputs": [
    {
     "data": {
      "text/plain": [
       "(192, 4)"
      ]
     },
     "execution_count": 33,
     "metadata": {},
     "output_type": "execute_result"
    }
   ],
   "source": [
    "messages_df.shape"
   ]
  },
  {
   "cell_type": "code",
   "execution_count": null,
   "id": "6e9b7a83",
   "metadata": {},
   "outputs": [],
   "source": []
  },
  {
   "cell_type": "code",
   "execution_count": null,
   "id": "8fc6ad12",
   "metadata": {},
   "outputs": [],
   "source": []
  },
  {
   "cell_type": "code",
   "execution_count": 34,
   "id": "08b232a6",
   "metadata": {},
   "outputs": [],
   "source": [
    "df_subjects = pd.read_excel('Software_Developer_Interview_Assignment.xlsx', sheet_name='Subjects')"
   ]
  },
  {
   "cell_type": "code",
   "execution_count": 35,
   "id": "c9128192",
   "metadata": {},
   "outputs": [
    {
     "data": {
      "text/html": [
       "<div>\n",
       "<style scoped>\n",
       "    .dataframe tbody tr th:only-of-type {\n",
       "        vertical-align: middle;\n",
       "    }\n",
       "\n",
       "    .dataframe tbody tr th {\n",
       "        vertical-align: top;\n",
       "    }\n",
       "\n",
       "    .dataframe thead th {\n",
       "        text-align: right;\n",
       "    }\n",
       "</style>\n",
       "<table border=\"1\" class=\"dataframe\">\n",
       "  <thead>\n",
       "    <tr style=\"text-align: right;\">\n",
       "      <th></th>\n",
       "      <th>ticket_id</th>\n",
       "      <th>subject</th>\n",
       "    </tr>\n",
       "  </thead>\n",
       "  <tbody>\n",
       "    <tr>\n",
       "      <th>0</th>\n",
       "      <td>2.0</td>\n",
       "      <td>[EM 2547900000] And had in was fabled seraphs ...</td>\n",
       "    </tr>\n",
       "    <tr>\n",
       "      <th>1</th>\n",
       "      <td>8.0</td>\n",
       "      <td>[EM 2547911111] No Ideal I Was Breastfeeding</td>\n",
       "    </tr>\n",
       "    <tr>\n",
       "      <th>2</th>\n",
       "      <td>9.0</td>\n",
       "      <td>[EM 2547222244] This is a ticket subject</td>\n",
       "    </tr>\n",
       "    <tr>\n",
       "      <th>3</th>\n",
       "      <td>10.0</td>\n",
       "      <td>[EM 2572222224] Was artless, been nor come bow...</td>\n",
       "    </tr>\n",
       "    <tr>\n",
       "      <th>4</th>\n",
       "      <td>11.0</td>\n",
       "      <td>[EM 2547900000] And had in was fabled seraphs ...</td>\n",
       "    </tr>\n",
       "  </tbody>\n",
       "</table>\n",
       "</div>"
      ],
      "text/plain": [
       "   ticket_id                                            subject\n",
       "0        2.0  [EM 2547900000] And had in was fabled seraphs ...\n",
       "1        8.0       [EM 2547911111] No Ideal I Was Breastfeeding\n",
       "2        9.0           [EM 2547222244] This is a ticket subject\n",
       "3       10.0  [EM 2572222224] Was artless, been nor come bow...\n",
       "4       11.0  [EM 2547900000] And had in was fabled seraphs ..."
      ]
     },
     "execution_count": 35,
     "metadata": {},
     "output_type": "execute_result"
    }
   ],
   "source": [
    "df_subjects.head()"
   ]
  },
  {
   "cell_type": "code",
   "execution_count": 36,
   "id": "b8e249e0",
   "metadata": {
    "scrolled": false
   },
   "outputs": [
    {
     "data": {
      "text/plain": [
       "(192, 2)"
      ]
     },
     "execution_count": 36,
     "metadata": {},
     "output_type": "execute_result"
    }
   ],
   "source": [
    "df_subjects.shape"
   ]
  },
  {
   "cell_type": "code",
   "execution_count": 37,
   "id": "a517837f",
   "metadata": {},
   "outputs": [],
   "source": [
    "sbj = '[EM 2547900000] And had in was fabled seraphs nor it beyond'"
   ]
  },
  {
   "cell_type": "code",
   "execution_count": 38,
   "id": "cc443bf0",
   "metadata": {},
   "outputs": [
    {
     "data": {
      "text/plain": [
       "True"
      ]
     },
     "execution_count": 38,
     "metadata": {},
     "output_type": "execute_result"
    }
   ],
   "source": [
    "'[' in sbj"
   ]
  },
  {
   "cell_type": "code",
   "execution_count": 39,
   "id": "6d579077",
   "metadata": {},
   "outputs": [
    {
     "data": {
      "text/plain": [
       "['[EM',\n",
       " '2547900000]',\n",
       " 'And',\n",
       " 'had',\n",
       " 'in',\n",
       " 'was',\n",
       " 'fabled',\n",
       " 'seraphs',\n",
       " 'nor',\n",
       " 'it',\n",
       " 'beyond']"
      ]
     },
     "execution_count": 39,
     "metadata": {},
     "output_type": "execute_result"
    }
   ],
   "source": [
    "sbj.split(' ')"
   ]
  },
  {
   "cell_type": "code",
   "execution_count": 40,
   "id": "2d235875",
   "metadata": {},
   "outputs": [
    {
     "data": {
      "text/plain": [
       "'2547900000]'"
      ]
     },
     "execution_count": 40,
     "metadata": {},
     "output_type": "execute_result"
    }
   ],
   "source": [
    "sbj.split(' ')[1]"
   ]
  },
  {
   "cell_type": "code",
   "execution_count": 41,
   "id": "5ac68b82",
   "metadata": {},
   "outputs": [
    {
     "data": {
      "text/plain": [
       "'2547900000'"
      ]
     },
     "execution_count": 41,
     "metadata": {},
     "output_type": "execute_result"
    }
   ],
   "source": [
    "sbj.split(' ')[1][:-1]"
   ]
  },
  {
   "cell_type": "code",
   "execution_count": 42,
   "id": "3fac2098",
   "metadata": {},
   "outputs": [
    {
     "data": {
      "text/plain": [
       "['And', 'had', 'in', 'was', 'fabled', 'seraphs', 'nor', 'it', 'beyond']"
      ]
     },
     "execution_count": 42,
     "metadata": {},
     "output_type": "execute_result"
    }
   ],
   "source": [
    "sbj.split(' ')[2:]"
   ]
  },
  {
   "cell_type": "code",
   "execution_count": 43,
   "id": "155ecf18",
   "metadata": {},
   "outputs": [
    {
     "data": {
      "text/plain": [
       "'And had in was fabled seraphs nor it beyond'"
      ]
     },
     "execution_count": 43,
     "metadata": {},
     "output_type": "execute_result"
    }
   ],
   "source": [
    "' '.join(sbj.split(' ')[2:])"
   ]
  },
  {
   "cell_type": "code",
   "execution_count": 44,
   "id": "cf49e11f",
   "metadata": {},
   "outputs": [],
   "source": [
    "from typing import Tuple"
   ]
  },
  {
   "cell_type": "code",
   "execution_count": 45,
   "id": "40737a43",
   "metadata": {},
   "outputs": [],
   "source": [
    "def get_phone_number_and_subject(sbj: str) -> Tuple[str, str]:\n",
    "    phone_number = ''\n",
    "    subject = ''\n",
    "    if '[' in sbj and ']' in sbj:\n",
    "        phone_number = sbj.split(' ')[1][:-1]\n",
    "        subject = ' '.join(sbj.split(' ')[2:])\n",
    "    else:\n",
    "        phone_number = None\n",
    "        subject = sbj\n",
    "    return phone_number, subject"
   ]
  },
  {
   "cell_type": "code",
   "execution_count": 46,
   "id": "cc9f82c6",
   "metadata": {},
   "outputs": [],
   "source": [
    "phone_no, sjj = get_phone_number_and_subject(sbj)\n"
   ]
  },
  {
   "cell_type": "code",
   "execution_count": 47,
   "id": "2fa6ab5f",
   "metadata": {},
   "outputs": [
    {
     "data": {
      "text/plain": [
       "'2547900000'"
      ]
     },
     "execution_count": 47,
     "metadata": {},
     "output_type": "execute_result"
    }
   ],
   "source": [
    "phone_no"
   ]
  },
  {
   "cell_type": "code",
   "execution_count": 48,
   "id": "13e46c4c",
   "metadata": {},
   "outputs": [
    {
     "data": {
      "text/plain": [
       "'And had in was fabled seraphs nor it beyond'"
      ]
     },
     "execution_count": 48,
     "metadata": {},
     "output_type": "execute_result"
    }
   ],
   "source": [
    "sjj"
   ]
  },
  {
   "cell_type": "code",
   "execution_count": 49,
   "id": "4d4652e2",
   "metadata": {},
   "outputs": [],
   "source": [
    "results = df_subjects.apply(\n",
    "    lambda row: get_phone_number_and_subject(row['subject'])[0], axis=1)"
   ]
  },
  {
   "cell_type": "code",
   "execution_count": 50,
   "id": "1455c7d0",
   "metadata": {
    "scrolled": true
   },
   "outputs": [
    {
     "data": {
      "text/plain": [
       "0      2547900000\n",
       "1      2547911111\n",
       "2      2547222244\n",
       "3      2572222224\n",
       "4      2547900000\n",
       "          ...    \n",
       "187    2547911111\n",
       "188    2547222244\n",
       "189          None\n",
       "190          None\n",
       "191    2547911111\n",
       "Length: 192, dtype: object"
      ]
     },
     "execution_count": 50,
     "metadata": {},
     "output_type": "execute_result"
    }
   ],
   "source": [
    "results"
   ]
  },
  {
   "cell_type": "code",
   "execution_count": 51,
   "id": "0683f7bb",
   "metadata": {
    "scrolled": true
   },
   "outputs": [
    {
     "data": {
      "text/html": [
       "<div>\n",
       "<style scoped>\n",
       "    .dataframe tbody tr th:only-of-type {\n",
       "        vertical-align: middle;\n",
       "    }\n",
       "\n",
       "    .dataframe tbody tr th {\n",
       "        vertical-align: top;\n",
       "    }\n",
       "\n",
       "    .dataframe thead th {\n",
       "        text-align: right;\n",
       "    }\n",
       "</style>\n",
       "<table border=\"1\" class=\"dataframe\">\n",
       "  <thead>\n",
       "    <tr style=\"text-align: right;\">\n",
       "      <th></th>\n",
       "      <th>ticket_id</th>\n",
       "      <th>subject</th>\n",
       "    </tr>\n",
       "  </thead>\n",
       "  <tbody>\n",
       "    <tr>\n",
       "      <th>0</th>\n",
       "      <td>2.0</td>\n",
       "      <td>[EM 2547900000] And had in was fabled seraphs ...</td>\n",
       "    </tr>\n",
       "    <tr>\n",
       "      <th>1</th>\n",
       "      <td>8.0</td>\n",
       "      <td>[EM 2547911111] No Ideal I Was Breastfeeding</td>\n",
       "    </tr>\n",
       "    <tr>\n",
       "      <th>2</th>\n",
       "      <td>9.0</td>\n",
       "      <td>[EM 2547222244] This is a ticket subject</td>\n",
       "    </tr>\n",
       "    <tr>\n",
       "      <th>3</th>\n",
       "      <td>10.0</td>\n",
       "      <td>[EM 2572222224] Was artless, been nor come bow...</td>\n",
       "    </tr>\n",
       "    <tr>\n",
       "      <th>4</th>\n",
       "      <td>11.0</td>\n",
       "      <td>[EM 2547900000] And had in was fabled seraphs ...</td>\n",
       "    </tr>\n",
       "  </tbody>\n",
       "</table>\n",
       "</div>"
      ],
      "text/plain": [
       "   ticket_id                                            subject\n",
       "0        2.0  [EM 2547900000] And had in was fabled seraphs ...\n",
       "1        8.0       [EM 2547911111] No Ideal I Was Breastfeeding\n",
       "2        9.0           [EM 2547222244] This is a ticket subject\n",
       "3       10.0  [EM 2572222224] Was artless, been nor come bow...\n",
       "4       11.0  [EM 2547900000] And had in was fabled seraphs ..."
      ]
     },
     "execution_count": 51,
     "metadata": {},
     "output_type": "execute_result"
    }
   ],
   "source": [
    "df_subjects.head()"
   ]
  },
  {
   "cell_type": "code",
   "execution_count": null,
   "id": "d3ec01c4",
   "metadata": {},
   "outputs": [],
   "source": []
  },
  {
   "cell_type": "code",
   "execution_count": 52,
   "id": "7816932a",
   "metadata": {
    "scrolled": true
   },
   "outputs": [],
   "source": [
    "df_subjects['phone_number'] = df_subjects.apply(\n",
    "    lambda row: get_phone_number_and_subject(row['subject'])[0], axis=1)"
   ]
  },
  {
   "cell_type": "code",
   "execution_count": 53,
   "id": "685e548e",
   "metadata": {},
   "outputs": [],
   "source": [
    "df_subjects['sbj'] = df_subjects.apply(\n",
    "    lambda row: get_phone_number_and_subject(row['subject'])[1], axis=1)"
   ]
  },
  {
   "cell_type": "code",
   "execution_count": 54,
   "id": "370f8cbb",
   "metadata": {},
   "outputs": [
    {
     "data": {
      "text/html": [
       "<div>\n",
       "<style scoped>\n",
       "    .dataframe tbody tr th:only-of-type {\n",
       "        vertical-align: middle;\n",
       "    }\n",
       "\n",
       "    .dataframe tbody tr th {\n",
       "        vertical-align: top;\n",
       "    }\n",
       "\n",
       "    .dataframe thead th {\n",
       "        text-align: right;\n",
       "    }\n",
       "</style>\n",
       "<table border=\"1\" class=\"dataframe\">\n",
       "  <thead>\n",
       "    <tr style=\"text-align: right;\">\n",
       "      <th></th>\n",
       "      <th>ticket_id</th>\n",
       "      <th>subject</th>\n",
       "      <th>phone_number</th>\n",
       "      <th>sbj</th>\n",
       "    </tr>\n",
       "  </thead>\n",
       "  <tbody>\n",
       "    <tr>\n",
       "      <th>0</th>\n",
       "      <td>2.0</td>\n",
       "      <td>[EM 2547900000] And had in was fabled seraphs ...</td>\n",
       "      <td>2547900000</td>\n",
       "      <td>And had in was fabled seraphs nor it beyond</td>\n",
       "    </tr>\n",
       "    <tr>\n",
       "      <th>1</th>\n",
       "      <td>8.0</td>\n",
       "      <td>[EM 2547911111] No Ideal I Was Breastfeeding</td>\n",
       "      <td>2547911111</td>\n",
       "      <td>No Ideal I Was Breastfeeding</td>\n",
       "    </tr>\n",
       "    <tr>\n",
       "      <th>2</th>\n",
       "      <td>9.0</td>\n",
       "      <td>[EM 2547222244] This is a ticket subject</td>\n",
       "      <td>2547222244</td>\n",
       "      <td>This is a ticket subject</td>\n",
       "    </tr>\n",
       "    <tr>\n",
       "      <th>3</th>\n",
       "      <td>10.0</td>\n",
       "      <td>[EM 2572222224] Was artless, been nor come bow...</td>\n",
       "      <td>2572222224</td>\n",
       "      <td>Was artless, been nor come bower the it</td>\n",
       "    </tr>\n",
       "    <tr>\n",
       "      <th>4</th>\n",
       "      <td>11.0</td>\n",
       "      <td>[EM 2547900000] And had in was fabled seraphs ...</td>\n",
       "      <td>2547900000</td>\n",
       "      <td>And had in was fabled seraphs nor it beyond</td>\n",
       "    </tr>\n",
       "  </tbody>\n",
       "</table>\n",
       "</div>"
      ],
      "text/plain": [
       "   ticket_id                                            subject phone_number  \\\n",
       "0        2.0  [EM 2547900000] And had in was fabled seraphs ...   2547900000   \n",
       "1        8.0       [EM 2547911111] No Ideal I Was Breastfeeding   2547911111   \n",
       "2        9.0           [EM 2547222244] This is a ticket subject   2547222244   \n",
       "3       10.0  [EM 2572222224] Was artless, been nor come bow...   2572222224   \n",
       "4       11.0  [EM 2547900000] And had in was fabled seraphs ...   2547900000   \n",
       "\n",
       "                                           sbj  \n",
       "0  And had in was fabled seraphs nor it beyond  \n",
       "1                 No Ideal I Was Breastfeeding  \n",
       "2                     This is a ticket subject  \n",
       "3      Was artless, been nor come bower the it  \n",
       "4  And had in was fabled seraphs nor it beyond  "
      ]
     },
     "execution_count": 54,
     "metadata": {},
     "output_type": "execute_result"
    }
   ],
   "source": [
    "df_subjects.head()"
   ]
  },
  {
   "cell_type": "code",
   "execution_count": 55,
   "id": "e40715f7",
   "metadata": {},
   "outputs": [],
   "source": [
    "df_ticket_sbj_phone = df_subjects[['ticket_id', 'phone_number', 'sbj']]"
   ]
  },
  {
   "cell_type": "code",
   "execution_count": 56,
   "id": "5226363c",
   "metadata": {},
   "outputs": [
    {
     "data": {
      "text/html": [
       "<div>\n",
       "<style scoped>\n",
       "    .dataframe tbody tr th:only-of-type {\n",
       "        vertical-align: middle;\n",
       "    }\n",
       "\n",
       "    .dataframe tbody tr th {\n",
       "        vertical-align: top;\n",
       "    }\n",
       "\n",
       "    .dataframe thead th {\n",
       "        text-align: right;\n",
       "    }\n",
       "</style>\n",
       "<table border=\"1\" class=\"dataframe\">\n",
       "  <thead>\n",
       "    <tr style=\"text-align: right;\">\n",
       "      <th></th>\n",
       "      <th>ticket_id</th>\n",
       "      <th>phone_number</th>\n",
       "      <th>sbj</th>\n",
       "    </tr>\n",
       "  </thead>\n",
       "  <tbody>\n",
       "    <tr>\n",
       "      <th>0</th>\n",
       "      <td>2.0</td>\n",
       "      <td>2547900000</td>\n",
       "      <td>And had in was fabled seraphs nor it beyond</td>\n",
       "    </tr>\n",
       "    <tr>\n",
       "      <th>1</th>\n",
       "      <td>8.0</td>\n",
       "      <td>2547911111</td>\n",
       "      <td>No Ideal I Was Breastfeeding</td>\n",
       "    </tr>\n",
       "    <tr>\n",
       "      <th>2</th>\n",
       "      <td>9.0</td>\n",
       "      <td>2547222244</td>\n",
       "      <td>This is a ticket subject</td>\n",
       "    </tr>\n",
       "    <tr>\n",
       "      <th>3</th>\n",
       "      <td>10.0</td>\n",
       "      <td>2572222224</td>\n",
       "      <td>Was artless, been nor come bower the it</td>\n",
       "    </tr>\n",
       "    <tr>\n",
       "      <th>4</th>\n",
       "      <td>11.0</td>\n",
       "      <td>2547900000</td>\n",
       "      <td>And had in was fabled seraphs nor it beyond</td>\n",
       "    </tr>\n",
       "  </tbody>\n",
       "</table>\n",
       "</div>"
      ],
      "text/plain": [
       "   ticket_id phone_number                                          sbj\n",
       "0        2.0   2547900000  And had in was fabled seraphs nor it beyond\n",
       "1        8.0   2547911111                 No Ideal I Was Breastfeeding\n",
       "2        9.0   2547222244                     This is a ticket subject\n",
       "3       10.0   2572222224      Was artless, been nor come bower the it\n",
       "4       11.0   2547900000  And had in was fabled seraphs nor it beyond"
      ]
     },
     "execution_count": 56,
     "metadata": {},
     "output_type": "execute_result"
    }
   ],
   "source": [
    "df_ticket_sbj_phone.head()"
   ]
  },
  {
   "cell_type": "code",
   "execution_count": null,
   "id": "ca9905db",
   "metadata": {},
   "outputs": [],
   "source": []
  },
  {
   "cell_type": "code",
   "execution_count": 57,
   "id": "fd2a6296",
   "metadata": {},
   "outputs": [
    {
     "data": {
      "text/html": [
       "<div>\n",
       "<style scoped>\n",
       "    .dataframe tbody tr th:only-of-type {\n",
       "        vertical-align: middle;\n",
       "    }\n",
       "\n",
       "    .dataframe tbody tr th {\n",
       "        vertical-align: top;\n",
       "    }\n",
       "\n",
       "    .dataframe thead th {\n",
       "        text-align: right;\n",
       "    }\n",
       "</style>\n",
       "<table border=\"1\" class=\"dataframe\">\n",
       "  <thead>\n",
       "    <tr style=\"text-align: right;\">\n",
       "      <th></th>\n",
       "      <th>ticket_id</th>\n",
       "      <th>intents</th>\n",
       "      <th>incoming_messages</th>\n",
       "      <th>outgoing_messages</th>\n",
       "    </tr>\n",
       "  </thead>\n",
       "  <tbody>\n",
       "    <tr>\n",
       "      <th>0</th>\n",
       "      <td>2.0</td>\n",
       "      <td>[nutrition, None]</td>\n",
       "      <td>[{'id': 43022520336, 'message': 'Officia conse...</td>\n",
       "      <td>[{'id': 43022520334, 'message': 'Cupidatat con...</td>\n",
       "    </tr>\n",
       "    <tr>\n",
       "      <th>1</th>\n",
       "      <td>8.0</td>\n",
       "      <td>[pain, pregnancy_condition, headache]</td>\n",
       "      <td>[{'id': 43022524893, 'message': 'Ex velit ea e...</td>\n",
       "      <td>[{'id': 43022545487, 'message': 'proident enim...</td>\n",
       "    </tr>\n",
       "    <tr>\n",
       "      <th>2</th>\n",
       "      <td>9.0</td>\n",
       "      <td>[qsurvey_positive, ok_thanks, survey_response,...</td>\n",
       "      <td>[{'id': 43022725673, 'message': 'Ex velit ea e...</td>\n",
       "      <td>[{'id': 43022525662, 'message': 'Officia conse...</td>\n",
       "    </tr>\n",
       "    <tr>\n",
       "      <th>3</th>\n",
       "      <td>10.0</td>\n",
       "      <td>[swelling, fetal_movement, ok_thanks]</td>\n",
       "      <td>[{'id': 43022549306, 'message': 'nor his of. S...</td>\n",
       "      <td>[{'id': 43022552951, 'message': 'day or her ba...</td>\n",
       "    </tr>\n",
       "    <tr>\n",
       "      <th>4</th>\n",
       "      <td>11.0</td>\n",
       "      <td>[pain, ok_thanks, qsurvey_positive]</td>\n",
       "      <td>[{'id': 43022944597, 'message': 'heralds deeme...</td>\n",
       "      <td>[{'id': 43022935507, 'message': 'light is thy....</td>\n",
       "    </tr>\n",
       "  </tbody>\n",
       "</table>\n",
       "</div>"
      ],
      "text/plain": [
       "   ticket_id                                            intents  \\\n",
       "0        2.0                                  [nutrition, None]   \n",
       "1        8.0              [pain, pregnancy_condition, headache]   \n",
       "2        9.0  [qsurvey_positive, ok_thanks, survey_response,...   \n",
       "3       10.0              [swelling, fetal_movement, ok_thanks]   \n",
       "4       11.0                [pain, ok_thanks, qsurvey_positive]   \n",
       "\n",
       "                                   incoming_messages  \\\n",
       "0  [{'id': 43022520336, 'message': 'Officia conse...   \n",
       "1  [{'id': 43022524893, 'message': 'Ex velit ea e...   \n",
       "2  [{'id': 43022725673, 'message': 'Ex velit ea e...   \n",
       "3  [{'id': 43022549306, 'message': 'nor his of. S...   \n",
       "4  [{'id': 43022944597, 'message': 'heralds deeme...   \n",
       "\n",
       "                                   outgoing_messages  \n",
       "0  [{'id': 43022520334, 'message': 'Cupidatat con...  \n",
       "1  [{'id': 43022545487, 'message': 'proident enim...  \n",
       "2  [{'id': 43022525662, 'message': 'Officia conse...  \n",
       "3  [{'id': 43022552951, 'message': 'day or her ba...  \n",
       "4  [{'id': 43022935507, 'message': 'light is thy....  "
      ]
     },
     "execution_count": 57,
     "metadata": {},
     "output_type": "execute_result"
    }
   ],
   "source": [
    "messages_df.head()"
   ]
  },
  {
   "cell_type": "code",
   "execution_count": 58,
   "id": "5cac89a2",
   "metadata": {},
   "outputs": [
    {
     "data": {
      "text/html": [
       "<div>\n",
       "<style scoped>\n",
       "    .dataframe tbody tr th:only-of-type {\n",
       "        vertical-align: middle;\n",
       "    }\n",
       "\n",
       "    .dataframe tbody tr th {\n",
       "        vertical-align: top;\n",
       "    }\n",
       "\n",
       "    .dataframe thead th {\n",
       "        text-align: right;\n",
       "    }\n",
       "</style>\n",
       "<table border=\"1\" class=\"dataframe\">\n",
       "  <thead>\n",
       "    <tr style=\"text-align: right;\">\n",
       "      <th></th>\n",
       "      <th>ticket_id</th>\n",
       "      <th>phone_number</th>\n",
       "      <th>sbj</th>\n",
       "    </tr>\n",
       "  </thead>\n",
       "  <tbody>\n",
       "    <tr>\n",
       "      <th>0</th>\n",
       "      <td>2.0</td>\n",
       "      <td>2547900000</td>\n",
       "      <td>And had in was fabled seraphs nor it beyond</td>\n",
       "    </tr>\n",
       "    <tr>\n",
       "      <th>1</th>\n",
       "      <td>8.0</td>\n",
       "      <td>2547911111</td>\n",
       "      <td>No Ideal I Was Breastfeeding</td>\n",
       "    </tr>\n",
       "    <tr>\n",
       "      <th>2</th>\n",
       "      <td>9.0</td>\n",
       "      <td>2547222244</td>\n",
       "      <td>This is a ticket subject</td>\n",
       "    </tr>\n",
       "    <tr>\n",
       "      <th>3</th>\n",
       "      <td>10.0</td>\n",
       "      <td>2572222224</td>\n",
       "      <td>Was artless, been nor come bower the it</td>\n",
       "    </tr>\n",
       "    <tr>\n",
       "      <th>4</th>\n",
       "      <td>11.0</td>\n",
       "      <td>2547900000</td>\n",
       "      <td>And had in was fabled seraphs nor it beyond</td>\n",
       "    </tr>\n",
       "  </tbody>\n",
       "</table>\n",
       "</div>"
      ],
      "text/plain": [
       "   ticket_id phone_number                                          sbj\n",
       "0        2.0   2547900000  And had in was fabled seraphs nor it beyond\n",
       "1        8.0   2547911111                 No Ideal I Was Breastfeeding\n",
       "2        9.0   2547222244                     This is a ticket subject\n",
       "3       10.0   2572222224      Was artless, been nor come bower the it\n",
       "4       11.0   2547900000  And had in was fabled seraphs nor it beyond"
      ]
     },
     "execution_count": 58,
     "metadata": {},
     "output_type": "execute_result"
    }
   ],
   "source": [
    "df_ticket_sbj_phone.head()"
   ]
  },
  {
   "cell_type": "code",
   "execution_count": 59,
   "id": "0fddf470",
   "metadata": {},
   "outputs": [],
   "source": [
    "merged_df = pd.merge(df_ticket_sbj_phone, messages_df, on=['ticket_id'])"
   ]
  },
  {
   "cell_type": "code",
   "execution_count": 60,
   "id": "d7d25381",
   "metadata": {},
   "outputs": [
    {
     "data": {
      "text/html": [
       "<div>\n",
       "<style scoped>\n",
       "    .dataframe tbody tr th:only-of-type {\n",
       "        vertical-align: middle;\n",
       "    }\n",
       "\n",
       "    .dataframe tbody tr th {\n",
       "        vertical-align: top;\n",
       "    }\n",
       "\n",
       "    .dataframe thead th {\n",
       "        text-align: right;\n",
       "    }\n",
       "</style>\n",
       "<table border=\"1\" class=\"dataframe\">\n",
       "  <thead>\n",
       "    <tr style=\"text-align: right;\">\n",
       "      <th></th>\n",
       "      <th>ticket_id</th>\n",
       "      <th>phone_number</th>\n",
       "      <th>sbj</th>\n",
       "      <th>intents</th>\n",
       "      <th>incoming_messages</th>\n",
       "      <th>outgoing_messages</th>\n",
       "    </tr>\n",
       "  </thead>\n",
       "  <tbody>\n",
       "    <tr>\n",
       "      <th>0</th>\n",
       "      <td>2.0</td>\n",
       "      <td>2547900000</td>\n",
       "      <td>And had in was fabled seraphs nor it beyond</td>\n",
       "      <td>[nutrition, None]</td>\n",
       "      <td>[{'id': 43022520336, 'message': 'Officia conse...</td>\n",
       "      <td>[{'id': 43022520334, 'message': 'Cupidatat con...</td>\n",
       "    </tr>\n",
       "    <tr>\n",
       "      <th>1</th>\n",
       "      <td>8.0</td>\n",
       "      <td>2547911111</td>\n",
       "      <td>No Ideal I Was Breastfeeding</td>\n",
       "      <td>[pain, pregnancy_condition, headache]</td>\n",
       "      <td>[{'id': 43022524893, 'message': 'Ex velit ea e...</td>\n",
       "      <td>[{'id': 43022545487, 'message': 'proident enim...</td>\n",
       "    </tr>\n",
       "    <tr>\n",
       "      <th>2</th>\n",
       "      <td>9.0</td>\n",
       "      <td>2547222244</td>\n",
       "      <td>This is a ticket subject</td>\n",
       "      <td>[qsurvey_positive, ok_thanks, survey_response,...</td>\n",
       "      <td>[{'id': 43022725673, 'message': 'Ex velit ea e...</td>\n",
       "      <td>[{'id': 43022525662, 'message': 'Officia conse...</td>\n",
       "    </tr>\n",
       "    <tr>\n",
       "      <th>3</th>\n",
       "      <td>10.0</td>\n",
       "      <td>2572222224</td>\n",
       "      <td>Was artless, been nor come bower the it</td>\n",
       "      <td>[swelling, fetal_movement, ok_thanks]</td>\n",
       "      <td>[{'id': 43022549306, 'message': 'nor his of. S...</td>\n",
       "      <td>[{'id': 43022552951, 'message': 'day or her ba...</td>\n",
       "    </tr>\n",
       "    <tr>\n",
       "      <th>4</th>\n",
       "      <td>11.0</td>\n",
       "      <td>2547900000</td>\n",
       "      <td>And had in was fabled seraphs nor it beyond</td>\n",
       "      <td>[pain, ok_thanks, qsurvey_positive]</td>\n",
       "      <td>[{'id': 43022944597, 'message': 'heralds deeme...</td>\n",
       "      <td>[{'id': 43022935507, 'message': 'light is thy....</td>\n",
       "    </tr>\n",
       "  </tbody>\n",
       "</table>\n",
       "</div>"
      ],
      "text/plain": [
       "   ticket_id phone_number                                          sbj  \\\n",
       "0        2.0   2547900000  And had in was fabled seraphs nor it beyond   \n",
       "1        8.0   2547911111                 No Ideal I Was Breastfeeding   \n",
       "2        9.0   2547222244                     This is a ticket subject   \n",
       "3       10.0   2572222224      Was artless, been nor come bower the it   \n",
       "4       11.0   2547900000  And had in was fabled seraphs nor it beyond   \n",
       "\n",
       "                                             intents  \\\n",
       "0                                  [nutrition, None]   \n",
       "1              [pain, pregnancy_condition, headache]   \n",
       "2  [qsurvey_positive, ok_thanks, survey_response,...   \n",
       "3              [swelling, fetal_movement, ok_thanks]   \n",
       "4                [pain, ok_thanks, qsurvey_positive]   \n",
       "\n",
       "                                   incoming_messages  \\\n",
       "0  [{'id': 43022520336, 'message': 'Officia conse...   \n",
       "1  [{'id': 43022524893, 'message': 'Ex velit ea e...   \n",
       "2  [{'id': 43022725673, 'message': 'Ex velit ea e...   \n",
       "3  [{'id': 43022549306, 'message': 'nor his of. S...   \n",
       "4  [{'id': 43022944597, 'message': 'heralds deeme...   \n",
       "\n",
       "                                   outgoing_messages  \n",
       "0  [{'id': 43022520334, 'message': 'Cupidatat con...  \n",
       "1  [{'id': 43022545487, 'message': 'proident enim...  \n",
       "2  [{'id': 43022525662, 'message': 'Officia conse...  \n",
       "3  [{'id': 43022552951, 'message': 'day or her ba...  \n",
       "4  [{'id': 43022935507, 'message': 'light is thy....  "
      ]
     },
     "execution_count": 60,
     "metadata": {},
     "output_type": "execute_result"
    }
   ],
   "source": [
    "merged_df.head()"
   ]
  },
  {
   "cell_type": "code",
   "execution_count": 61,
   "id": "9b0fbd85",
   "metadata": {},
   "outputs": [
    {
     "data": {
      "text/plain": [
       "[{'id': 43022524893,\n",
       "  'message': 'Ex velit ea eu pariatur. Non commodo cillum irure consectetur ea occaecat culpa est proident.',\n",
       "  'created': Timestamp('2018-10-08 08:42:01'),\n",
       "  'updated': Timestamp('2018-10-08 08:42:01'),\n",
       "  'user_id': 43012946687},\n",
       " {'id': 43022524894,\n",
       "  'message': 'Reprehenderit elit labore officia non pariatur dolor et officia nulla velit. Excepteur in',\n",
       "  'created': Timestamp('2018-10-08 08:42:01'),\n",
       "  'updated': Timestamp('2018-10-08 08:42:01'),\n",
       "  'user_id': 43012946687},\n",
       " {'id': 43022915626,\n",
       "  'message': 'Sint labore nisi aliquip quis dolore ad do ullamco ea minim sint.',\n",
       "  'created': Timestamp('2018-10-09 04:36:07'),\n",
       "  'updated': Timestamp('2018-10-09 04:36:07'),\n",
       "  'user_id': 43012946686},\n",
       " {'id': 43022962852,\n",
       "  'message': 'Cupidatat consectetur magna ex ipsum ut laborum dolor ad do quis.',\n",
       "  'created': Timestamp('2018-10-09 08:42:26'),\n",
       "  'updated': Timestamp('2018-10-09 08:42:26'),\n",
       "  'user_id': 43012946687}]"
      ]
     },
     "execution_count": 61,
     "metadata": {},
     "output_type": "execute_result"
    }
   ],
   "source": [
    "merged_df.iloc[1].incoming_messages"
   ]
  },
  {
   "cell_type": "code",
   "execution_count": null,
   "id": "68aeffdd",
   "metadata": {},
   "outputs": [],
   "source": []
  }
 ],
 "metadata": {
  "kernelspec": {
   "display_name": "Python 3 (ipykernel)",
   "language": "python",
   "name": "python3"
  },
  "language_info": {
   "codemirror_mode": {
    "name": "ipython",
    "version": 3
   },
   "file_extension": ".py",
   "mimetype": "text/x-python",
   "name": "python",
   "nbconvert_exporter": "python",
   "pygments_lexer": "ipython3",
   "version": "3.9.6"
  }
 },
 "nbformat": 4,
 "nbformat_minor": 5
}
